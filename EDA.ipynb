{
 "cells": [
  {
   "cell_type": "code",
   "execution_count": 1,
   "metadata": {
    "collapsed": true,
    "ExecuteTime": {
     "end_time": "2023-09-28T20:00:55.875001Z",
     "start_time": "2023-09-28T20:00:52.760660Z"
    }
   },
   "outputs": [],
   "source": [
    "import numpy as np\n",
    "import pandas as pd\n",
    "import matplotlib.pyplot as plt\n",
    "from tensorflow import keras\n",
    "from sklearn.metrics import accuracy_score\n",
    "from tensorflow.keras.layers import SimpleRNN, Dense, LSTM, Dropout\n"
   ]
  },
  {
   "cell_type": "markdown",
   "source": [
    "### Load Dataset"
   ],
   "metadata": {
    "collapsed": false
   }
  },
  {
   "cell_type": "code",
   "execution_count": 29,
   "outputs": [],
   "source": [
    "match_1 = pd.read_json(\"game1.json\")\n",
    "match_2 = pd.read_json(\"game2.json\")"
   ],
   "metadata": {
    "collapsed": false,
    "ExecuteTime": {
     "end_time": "2023-09-28T20:23:07.088659Z",
     "start_time": "2023-09-28T20:23:07.058886Z"
    }
   }
  },
  {
   "cell_type": "markdown",
   "source": [
    "## Get to know the data\n"
   ],
   "metadata": {
    "collapsed": false
   }
  },
  {
   "cell_type": "code",
   "execution_count": 3,
   "outputs": [
    {
     "data": {
      "text/plain": "  label                                               norm\n0  walk  [23.177037336396975, 23.361525285249378, 21.53...\n1  walk  [20.998214383911275, 19.182798059840767, 18.27...\n2  walk  [21.95259682019565, 20.62720484424047, 22.5554...\n3  walk  [19.39209748358647, 19.30460665293087, 18.9787...\n4  rest  [22.069263037713093, 19.672270483203395, 19.88...",
      "text/html": "<div>\n<style scoped>\n    .dataframe tbody tr th:only-of-type {\n        vertical-align: middle;\n    }\n\n    .dataframe tbody tr th {\n        vertical-align: top;\n    }\n\n    .dataframe thead th {\n        text-align: right;\n    }\n</style>\n<table border=\"1\" class=\"dataframe\">\n  <thead>\n    <tr style=\"text-align: right;\">\n      <th></th>\n      <th>label</th>\n      <th>norm</th>\n    </tr>\n  </thead>\n  <tbody>\n    <tr>\n      <th>0</th>\n      <td>walk</td>\n      <td>[23.177037336396975, 23.361525285249378, 21.53...</td>\n    </tr>\n    <tr>\n      <th>1</th>\n      <td>walk</td>\n      <td>[20.998214383911275, 19.182798059840767, 18.27...</td>\n    </tr>\n    <tr>\n      <th>2</th>\n      <td>walk</td>\n      <td>[21.95259682019565, 20.62720484424047, 22.5554...</td>\n    </tr>\n    <tr>\n      <th>3</th>\n      <td>walk</td>\n      <td>[19.39209748358647, 19.30460665293087, 18.9787...</td>\n    </tr>\n    <tr>\n      <th>4</th>\n      <td>rest</td>\n      <td>[22.069263037713093, 19.672270483203395, 19.88...</td>\n    </tr>\n  </tbody>\n</table>\n</div>"
     },
     "execution_count": 3,
     "metadata": {},
     "output_type": "execute_result"
    }
   ],
   "source": [
    "match_1.head(5)"
   ],
   "metadata": {
    "collapsed": false,
    "ExecuteTime": {
     "end_time": "2023-09-28T20:02:06.014165Z",
     "start_time": "2023-09-28T20:02:05.991248Z"
    }
   }
  },
  {
   "cell_type": "code",
   "execution_count": 4,
   "outputs": [
    {
     "name": "stdout",
     "output_type": "stream",
     "text": [
      "(574, 2)\n",
      "(613, 2)\n"
     ]
    }
   ],
   "source": [
    "print(match_1.shape)\n",
    "print(match_2.shape)"
   ],
   "metadata": {
    "collapsed": false,
    "ExecuteTime": {
     "end_time": "2023-09-28T20:02:15.624258Z",
     "start_time": "2023-09-28T20:02:15.614110Z"
    }
   }
  },
  {
   "cell_type": "code",
   "execution_count": 5,
   "outputs": [
    {
     "data": {
      "text/plain": "       label                                               norm\ncount    574                                                574\nunique     8                                                574\ntop     walk  [23.177037336396975, 23.361525285249378, 21.53...\nfreq     245                                                  1",
      "text/html": "<div>\n<style scoped>\n    .dataframe tbody tr th:only-of-type {\n        vertical-align: middle;\n    }\n\n    .dataframe tbody tr th {\n        vertical-align: top;\n    }\n\n    .dataframe thead th {\n        text-align: right;\n    }\n</style>\n<table border=\"1\" class=\"dataframe\">\n  <thead>\n    <tr style=\"text-align: right;\">\n      <th></th>\n      <th>label</th>\n      <th>norm</th>\n    </tr>\n  </thead>\n  <tbody>\n    <tr>\n      <th>count</th>\n      <td>574</td>\n      <td>574</td>\n    </tr>\n    <tr>\n      <th>unique</th>\n      <td>8</td>\n      <td>574</td>\n    </tr>\n    <tr>\n      <th>top</th>\n      <td>walk</td>\n      <td>[23.177037336396975, 23.361525285249378, 21.53...</td>\n    </tr>\n    <tr>\n      <th>freq</th>\n      <td>245</td>\n      <td>1</td>\n    </tr>\n  </tbody>\n</table>\n</div>"
     },
     "execution_count": 5,
     "metadata": {},
     "output_type": "execute_result"
    }
   ],
   "source": [
    "match_1.describe()\n"
   ],
   "metadata": {
    "collapsed": false,
    "ExecuteTime": {
     "end_time": "2023-09-28T20:02:24.026641Z",
     "start_time": "2023-09-28T20:02:24.006728Z"
    }
   }
  },
  {
   "cell_type": "code",
   "execution_count": 6,
   "outputs": [
    {
     "data": {
      "text/plain": "       label                                               norm\ncount    613                                                613\nunique     9                                                613\ntop      run  [104.42423889328715, 87.63989343949717, 128.52...\nfreq     343                                                  1",
      "text/html": "<div>\n<style scoped>\n    .dataframe tbody tr th:only-of-type {\n        vertical-align: middle;\n    }\n\n    .dataframe tbody tr th {\n        vertical-align: top;\n    }\n\n    .dataframe thead th {\n        text-align: right;\n    }\n</style>\n<table border=\"1\" class=\"dataframe\">\n  <thead>\n    <tr style=\"text-align: right;\">\n      <th></th>\n      <th>label</th>\n      <th>norm</th>\n    </tr>\n  </thead>\n  <tbody>\n    <tr>\n      <th>count</th>\n      <td>613</td>\n      <td>613</td>\n    </tr>\n    <tr>\n      <th>unique</th>\n      <td>9</td>\n      <td>613</td>\n    </tr>\n    <tr>\n      <th>top</th>\n      <td>run</td>\n      <td>[104.42423889328715, 87.63989343949717, 128.52...</td>\n    </tr>\n    <tr>\n      <th>freq</th>\n      <td>343</td>\n      <td>1</td>\n    </tr>\n  </tbody>\n</table>\n</div>"
     },
     "execution_count": 6,
     "metadata": {},
     "output_type": "execute_result"
    }
   ],
   "source": [
    "match_2.describe()"
   ],
   "metadata": {
    "collapsed": false,
    "ExecuteTime": {
     "end_time": "2023-09-28T20:02:32.109607Z",
     "start_time": "2023-09-28T20:02:32.097943Z"
    }
   }
  },
  {
   "cell_type": "markdown",
   "source": [
    "## One dataset has 8 unique labels and second dataset has 9 unique labels"
   ],
   "metadata": {
    "collapsed": false
   }
  },
  {
   "cell_type": "code",
   "execution_count": 8,
   "outputs": [
    {
     "name": "stdout",
     "output_type": "stream",
     "text": [
      "['walk' 'rest' 'run' 'tackle' 'dribble' 'pass' 'cross' 'shot']\n",
      "['no action' 'run' 'pass' 'rest' 'walk' 'dribble' 'shot' 'tackle' 'cross']\n"
     ]
    }
   ],
   "source": [
    "print(match_1['label'].unique())\n",
    "print(match_2['label'].unique())"
   ],
   "metadata": {
    "collapsed": false,
    "ExecuteTime": {
     "end_time": "2023-09-28T20:03:38.185296Z",
     "start_time": "2023-09-28T20:03:38.169111Z"
    }
   }
  },
  {
   "cell_type": "markdown",
   "source": [
    "### Frequency value 50HZ is given, so we can calculate time taken for each gait.\n"
   ],
   "metadata": {
    "collapsed": false
   }
  },
  {
   "cell_type": "code",
   "execution_count": 9,
   "outputs": [
    {
     "data": {
      "text/plain": "  label                                               norm  time\n0  walk  [23.177037336396975, 23.361525285249378, 21.53...  1.44\n1  walk  [20.998214383911275, 19.182798059840767, 18.27...  1.08\n2  walk  [21.95259682019565, 20.62720484424047, 22.5554...  1.36\n3  walk  [19.39209748358647, 19.30460665293087, 18.9787...  1.50\n4  rest  [22.069263037713093, 19.672270483203395, 19.88...  3.62",
      "text/html": "<div>\n<style scoped>\n    .dataframe tbody tr th:only-of-type {\n        vertical-align: middle;\n    }\n\n    .dataframe tbody tr th {\n        vertical-align: top;\n    }\n\n    .dataframe thead th {\n        text-align: right;\n    }\n</style>\n<table border=\"1\" class=\"dataframe\">\n  <thead>\n    <tr style=\"text-align: right;\">\n      <th></th>\n      <th>label</th>\n      <th>norm</th>\n      <th>time</th>\n    </tr>\n  </thead>\n  <tbody>\n    <tr>\n      <th>0</th>\n      <td>walk</td>\n      <td>[23.177037336396975, 23.361525285249378, 21.53...</td>\n      <td>1.44</td>\n    </tr>\n    <tr>\n      <th>1</th>\n      <td>walk</td>\n      <td>[20.998214383911275, 19.182798059840767, 18.27...</td>\n      <td>1.08</td>\n    </tr>\n    <tr>\n      <th>2</th>\n      <td>walk</td>\n      <td>[21.95259682019565, 20.62720484424047, 22.5554...</td>\n      <td>1.36</td>\n    </tr>\n    <tr>\n      <th>3</th>\n      <td>walk</td>\n      <td>[19.39209748358647, 19.30460665293087, 18.9787...</td>\n      <td>1.50</td>\n    </tr>\n    <tr>\n      <th>4</th>\n      <td>rest</td>\n      <td>[22.069263037713093, 19.672270483203395, 19.88...</td>\n      <td>3.62</td>\n    </tr>\n  </tbody>\n</table>\n</div>"
     },
     "execution_count": 9,
     "metadata": {},
     "output_type": "execute_result"
    }
   ],
   "source": [
    "match_1['time'] = match_1['norm'].apply(lambda x: len(x)/50)\n",
    "match_2['time'] = match_2['norm'].apply(lambda x: len(x)/50)\n",
    "\n",
    "match_1.head(5)"
   ],
   "metadata": {
    "collapsed": false,
    "ExecuteTime": {
     "end_time": "2023-09-28T20:05:29.577407Z",
     "start_time": "2023-09-28T20:05:29.560268Z"
    }
   }
  },
  {
   "cell_type": "code",
   "execution_count": 12,
   "outputs": [
    {
     "name": "stdout",
     "output_type": "stream",
     "text": [
      "label\n",
      "walk       245\n",
      "run        209\n",
      "dribble     42\n",
      "rest        25\n",
      "pass        24\n",
      "tackle      20\n",
      "shot         6\n",
      "cross        3\n",
      "Name: count, dtype: int64\n"
     ]
    }
   ],
   "source": [
    "print(match_1[\"label\"].value_counts())\n"
   ],
   "metadata": {
    "collapsed": false,
    "ExecuteTime": {
     "end_time": "2023-09-28T20:06:15.458433Z",
     "start_time": "2023-09-28T20:06:15.439282Z"
    }
   }
  },
  {
   "cell_type": "code",
   "execution_count": 13,
   "outputs": [
    {
     "name": "stdout",
     "output_type": "stream",
     "text": [
      "label\n",
      "run          343\n",
      "walk         190\n",
      "dribble       36\n",
      "shot          12\n",
      "tackle        11\n",
      "rest          10\n",
      "pass           8\n",
      "no action      2\n",
      "cross          1\n",
      "Name: count, dtype: int64\n"
     ]
    }
   ],
   "source": [
    "print(match_2[\"label\"].value_counts())\n"
   ],
   "metadata": {
    "collapsed": false,
    "ExecuteTime": {
     "end_time": "2023-09-28T20:06:21.608163Z",
     "start_time": "2023-09-28T20:06:21.601249Z"
    }
   }
  },
  {
   "cell_type": "markdown",
   "source": [
    "### Plotting the data\n"
   ],
   "metadata": {
    "collapsed": false
   }
  },
  {
   "cell_type": "code",
   "execution_count": 14,
   "outputs": [
    {
     "data": {
      "text/plain": "<Figure size 800x400 with 1 Axes>",
      "image/png": "[encoded data removed]"
     },
     "metadata": {},
     "output_type": "display_data"
    }
   ],
   "source": [
    "plt.figure(figsize=(8,4))\n",
    "plt.hist(match_1['label'], bins=9)\n",
    "plt.title(\"Label count plot\")\n",
    "plt.xlabel(\"Label\")\n",
    "plt.ylabel(\"Count\")\n",
    "plt.show()\n"
   ],
   "metadata": {
    "collapsed": false,
    "ExecuteTime": {
     "end_time": "2023-09-28T20:06:34.957518Z",
     "start_time": "2023-09-28T20:06:34.824529Z"
    }
   }
  },
  {
   "cell_type": "markdown",
   "source": [
    "## Data is extremely unbalanced\n"
   ],
   "metadata": {
    "collapsed": false
   }
  },
  {
   "cell_type": "code",
   "execution_count": 15,
   "outputs": [
    {
     "data": {
      "text/plain": "<Figure size 800x400 with 1 Axes>",
      "image/png": "[encoded data removed]"
     },
     "metadata": {},
     "output_type": "display_data"
    }
   ],
   "source": [
    "plt.figure(figsize=(8,4))\n",
    "plt.hist(match_2['label'], bins=9)\n",
    "plt.title(\"Label count plot\")\n",
    "plt.xlabel(\"Label\")\n",
    "plt.ylabel(\"Count\")\n",
    "plt.show()"
   ],
   "metadata": {
    "collapsed": false,
    "ExecuteTime": {
     "end_time": "2023-09-28T20:07:28.621517Z",
     "start_time": "2023-09-28T20:07:28.529014Z"
    }
   }
  },
  {
   "cell_type": "markdown",
   "source": [
    "# Approach\n",
    "\n",
    "### To regenerate the game, using the given data, we can use random selection of actions.\n",
    "### As we have the time calculated, one solution is that take the desired duration of game as input and genrate sequence from the given data randomly, compare each time the total time duration.\n"
   ],
   "metadata": {
    "collapsed": false
   }
  },
  {
   "cell_type": "code",
   "execution_count": 16,
   "outputs": [],
   "source": [
    "game = pd.concat([match_1,match_2],ignore_index=True)\n",
    "game['time'] = game['norm'].apply(lambda x: len(x) / 50)\n",
    "\n",
    "def select_random_action(current_time, total_duration):\n",
    "    '''\n",
    "\n",
    "    :param current_time: updated time in each new item in the sequence\n",
    "    :param total_duration: total game duration\n",
    "    :return:\n",
    "    '''\n",
    "    all_actions = game[\n",
    "        (game['time'] + current_time <= total_duration) & (game['time'] > 0.1) & (game['time'] < 3.0)]\n",
    "    if len(all_actions) == 0:\n",
    "        return None\n",
    "    return all_actions.sample(1).iloc[0]\n",
    "\n",
    "def regenerate(total_duration=400):\n",
    "    '''\n",
    "\n",
    "    :param total_duration: Duration of the regenerated game\n",
    "    :return: sequence of actions and norm\n",
    "    '''\n",
    "    current_time = 0\n",
    "    generated_data = pd.DataFrame(columns=['label', 'norm'])\n",
    "    max_occurance = 3\n",
    "    previous_label = None\n",
    "    consecutive_occurance_count = 0\n",
    "    while current_time < total_duration:\n",
    "        # Select a random action\n",
    "        selected_action = select_random_action(current_time, total_duration)\n",
    "\n",
    "        # Ensure that a valid action was selected\n",
    "        if selected_action is None:\n",
    "            break\n",
    "\n",
    "        # Check if the selected label is the same as the previous label\n",
    "        if selected_action['label'] == previous_label:\n",
    "            consecutive_occurance_count += 1\n",
    "            if consecutive_occurance_count > max_occurance:\n",
    "                continue\n",
    "        else:\n",
    "            consecutive_occurance_count = 0\n",
    "\n",
    "        generated_data = pd.concat([generated_data, selected_action.to_frame().T], ignore_index=True)\n",
    "        current_time += selected_action['time']\n",
    "        previous_label = selected_action['label']\n",
    "\n",
    "    generated_data.reset_index(drop=True, inplace=True)\n",
    "    return generated_data[['label', 'norm']]\n",
    "\n"
   ],
   "metadata": {
    "collapsed": false,
    "ExecuteTime": {
     "end_time": "2023-09-28T20:14:39.526157Z",
     "start_time": "2023-09-28T20:14:39.499226Z"
    }
   }
  },
  {
   "cell_type": "markdown",
   "source": [
    "### Another way to generate the game is using RNN.\n",
    "### RNN is an option because our data is in the form of sequence. and RNN is a best option when the order of sequemce matters."
   ],
   "metadata": {
    "collapsed": false
   }
  },
  {
   "cell_type": "markdown",
   "source": [
    "## Prepocessing data for RNN"
   ],
   "metadata": {
    "collapsed": false
   }
  },
  {
   "cell_type": "code",
   "execution_count": 17,
   "outputs": [],
   "source": [
    "x_train = match_1['norm'].tolist()\n",
    "y_train = match_1['label'].tolist()"
   ],
   "metadata": {
    "collapsed": false,
    "ExecuteTime": {
     "end_time": "2023-09-28T20:16:36.953066Z",
     "start_time": "2023-09-28T20:16:36.929472Z"
    }
   }
  },
  {
   "cell_type": "markdown",
   "source": [
    "### As two dataset has different labels, and dataset size is small, I use manual encoding.\n"
   ],
   "metadata": {
    "collapsed": false
   }
  },
  {
   "cell_type": "code",
   "execution_count": 18,
   "outputs": [
    {
     "data": {
      "text/plain": "{'walk': 0,\n 'rest': 1,\n 'run': 2,\n 'tackle': 3,\n 'dribble': 4,\n 'pass': 5,\n 'cross': 6,\n 'shot': 7,\n 'no action': 8}"
     },
     "execution_count": 18,
     "metadata": {},
     "output_type": "execute_result"
    }
   ],
   "source": [
    "labels = pd.concat([match_1['label'],match_2['label']])\n",
    "unique_labels = labels.unique()\n",
    "label_map = {label: num for num, label in enumerate(unique_labels)}\n",
    "label_map"
   ],
   "metadata": {
    "collapsed": false,
    "ExecuteTime": {
     "end_time": "2023-09-28T20:17:55.782382Z",
     "start_time": "2023-09-28T20:17:55.762030Z"
    }
   }
  },
  {
   "cell_type": "code",
   "execution_count": 19,
   "outputs": [],
   "source": [
    "#Encode the labels\n",
    "y_train_encoded = [label_map[label] for label in y_train]\n",
    "y_train_encoded = np.array(y_train_encoded)"
   ],
   "metadata": {
    "collapsed": false,
    "ExecuteTime": {
     "end_time": "2023-09-28T20:18:09.506823Z",
     "start_time": "2023-09-28T20:18:09.487750Z"
    }
   }
  },
  {
   "cell_type": "markdown",
   "source": [
    "## As considering norm as x_train, need to pad the data to make it same length"
   ],
   "metadata": {
    "collapsed": false
   }
  },
  {
   "cell_type": "code",
   "execution_count": 20,
   "outputs": [
    {
     "name": "stdout",
     "output_type": "stream",
     "text": [
      "Max sequence length: 227\n"
     ]
    },
    {
     "data": {
      "text/plain": "array([[ 0,  0,  0, ..., 17, 21, 21],\n       [ 0,  0,  0, ..., 24, 21, 18],\n       [ 0,  0,  0, ..., 22, 20, 20],\n       ...,\n       [ 0,  0,  0, ..., 86, 46, 53],\n       [ 0,  0,  0, ..., 53, 49, 23],\n       [ 0,  0,  0, ..., 24, 30, 29]], dtype=int32)"
     },
     "execution_count": 20,
     "metadata": {},
     "output_type": "execute_result"
    }
   ],
   "source": [
    "# Pad the data\n",
    "max_sequence_length = max(len(seq) for seq in x_train)\n",
    "print('Max sequence length:', max_sequence_length)\n",
    "X_train_padded = keras.preprocessing.sequence.pad_sequences(x_train, maxlen=max_sequence_length)\n",
    "X_train_padded"
   ],
   "metadata": {
    "collapsed": false,
    "ExecuteTime": {
     "end_time": "2023-09-28T20:19:09.615654Z",
     "start_time": "2023-09-28T20:19:09.582430Z"
    }
   }
  },
  {
   "cell_type": "code",
   "execution_count": 21,
   "outputs": [
    {
     "name": "stdout",
     "output_type": "stream",
     "text": [
      "(574, 227)\n",
      "(574,)\n"
     ]
    }
   ],
   "source": [
    "print(X_train_padded.shape)\n",
    "print(y_train_encoded.shape)"
   ],
   "metadata": {
    "collapsed": false,
    "ExecuteTime": {
     "end_time": "2023-09-28T20:19:18.427472Z",
     "start_time": "2023-09-28T20:19:18.389119Z"
    }
   }
  },
  {
   "cell_type": "code",
   "execution_count": 22,
   "outputs": [
    {
     "data": {
      "text/plain": "(574, 1, 227)"
     },
     "execution_count": 22,
     "metadata": {},
     "output_type": "execute_result"
    }
   ],
   "source": [
    "#Reshape the input data to include a time step dimension of size 1\n",
    "x_train = X_train_padded.reshape((X_train_padded.shape[0], 1,X_train_padded.shape[1]))\n",
    "x_train.shape"
   ],
   "metadata": {
    "collapsed": false,
    "ExecuteTime": {
     "end_time": "2023-09-28T20:19:29.302119Z",
     "start_time": "2023-09-28T20:19:29.182107Z"
    }
   }
  },
  {
   "cell_type": "markdown",
   "source": [
    "## Build the model\n"
   ],
   "metadata": {
    "collapsed": false
   }
  },
  {
   "cell_type": "code",
   "execution_count": 23,
   "outputs": [
    {
     "name": "stdout",
     "output_type": "stream",
     "text": [
      "Model: \"sequential\"\n",
      "_________________________________________________________________\n",
      " Layer (type)                Output Shape              Param #   \n",
      "=================================================================\n",
      " lstm (LSTM)                 (None, 1, 64)             74752     \n",
      "                                                                 \n",
      " dropout (Dropout)           (None, 1, 64)             0         \n",
      "                                                                 \n",
      " lstm_1 (LSTM)               (None, 64)                33024     \n",
      "                                                                 \n",
      " dropout_1 (Dropout)         (None, 64)                0         \n",
      "                                                                 \n",
      " dense (Dense)               (None, 9)                 585       \n",
      "                                                                 \n",
      "=================================================================\n",
      "Total params: 108361 (423.29 KB)\n",
      "Trainable params: 108361 (423.29 KB)\n",
      "Non-trainable params: 0 (0.00 Byte)\n",
      "_________________________________________________________________\n"
     ]
    }
   ],
   "source": [
    "\n",
    "model = keras.Sequential()\n",
    "model.add(LSTM(units=64, input_shape=(1, max_sequence_length), return_sequences=True))\n",
    "model.add(Dropout(0.4))\n",
    "model.add(LSTM(units=64))\n",
    "model.add(Dropout(0.4))\n",
    "model.add(Dense(9, activation='softmax'))\n",
    "model.compile(optimizer=\"adam\", loss='sparse_categorical_crossentropy', metrics=['accuracy'])\n",
    "model.summary()"
   ],
   "metadata": {
    "collapsed": false,
    "ExecuteTime": {
     "end_time": "2023-09-28T20:19:50.458939Z",
     "start_time": "2023-09-28T20:19:49.744611Z"
    }
   }
  },
  {
   "cell_type": "markdown",
   "source": [
    "## Train the model"
   ],
   "metadata": {
    "collapsed": false
   }
  },
  {
   "cell_type": "code",
   "execution_count": 24,
   "outputs": [
    {
     "name": "stdout",
     "output_type": "stream",
     "text": [
      "Epoch 1/80\n",
      "6/6 [==============================] - 2s 3ms/step - loss: 2.1631 - accuracy: 0.1725\n",
      "Epoch 2/80\n",
      "6/6 [==============================] - 0s 2ms/step - loss: 2.0592 - accuracy: 0.3937\n",
      "Epoch 3/80\n",
      "6/6 [==============================] - 0s 3ms/step - loss: 1.9356 - accuracy: 0.5000\n",
      "Epoch 4/80\n",
      "6/6 [==============================] - 0s 2ms/step - loss: 1.8016 - accuracy: 0.4878\n",
      "Epoch 5/80\n",
      "6/6 [==============================] - 0s 4ms/step - loss: 1.6426 - accuracy: 0.5488\n",
      "Epoch 6/80\n",
      "6/6 [==============================] - 0s 3ms/step - loss: 1.5173 - accuracy: 0.5244\n",
      "Epoch 7/80\n",
      "6/6 [==============================] - 0s 2ms/step - loss: 1.4237 - accuracy: 0.5383\n",
      "Epoch 8/80\n",
      "6/6 [==============================] - 0s 2ms/step - loss: 1.3467 - accuracy: 0.5592\n",
      "Epoch 9/80\n",
      "6/6 [==============================] - 0s 3ms/step - loss: 1.3010 - accuracy: 0.5767\n",
      "Epoch 10/80\n",
      "6/6 [==============================] - 0s 3ms/step - loss: 1.2767 - accuracy: 0.6237\n",
      "Epoch 11/80\n",
      "6/6 [==============================] - 0s 2ms/step - loss: 1.2099 - accuracy: 0.6202\n",
      "Epoch 12/80\n",
      "6/6 [==============================] - 0s 2ms/step - loss: 1.2000 - accuracy: 0.6237\n",
      "Epoch 13/80\n",
      "6/6 [==============================] - 0s 2ms/step - loss: 1.1771 - accuracy: 0.6324\n",
      "Epoch 14/80\n",
      "6/6 [==============================] - 0s 2ms/step - loss: 1.1835 - accuracy: 0.6324\n",
      "Epoch 15/80\n",
      "6/6 [==============================] - 0s 2ms/step - loss: 1.1453 - accuracy: 0.6307\n",
      "Epoch 16/80\n",
      "6/6 [==============================] - 0s 3ms/step - loss: 1.1432 - accuracy: 0.6376\n",
      "Epoch 17/80\n",
      "6/6 [==============================] - 0s 2ms/step - loss: 1.1054 - accuracy: 0.6289\n",
      "Epoch 18/80\n",
      "6/6 [==============================] - 0s 3ms/step - loss: 1.0883 - accuracy: 0.6394\n",
      "Epoch 19/80\n",
      "6/6 [==============================] - 0s 2ms/step - loss: 1.0865 - accuracy: 0.6481\n",
      "Epoch 20/80\n",
      "6/6 [==============================] - 0s 3ms/step - loss: 1.0579 - accuracy: 0.6533\n",
      "Epoch 21/80\n",
      "6/6 [==============================] - 0s 3ms/step - loss: 1.0431 - accuracy: 0.6638\n",
      "Epoch 22/80\n",
      "6/6 [==============================] - 0s 3ms/step - loss: 1.0287 - accuracy: 0.6655\n",
      "Epoch 23/80\n",
      "6/6 [==============================] - 0s 3ms/step - loss: 1.0491 - accuracy: 0.6498\n",
      "Epoch 24/80\n",
      "6/6 [==============================] - 0s 2ms/step - loss: 1.0319 - accuracy: 0.6620\n",
      "Epoch 25/80\n",
      "6/6 [==============================] - 0s 3ms/step - loss: 1.0261 - accuracy: 0.6585\n",
      "Epoch 26/80\n",
      "6/6 [==============================] - 0s 2ms/step - loss: 0.9963 - accuracy: 0.6690\n",
      "Epoch 27/80\n",
      "6/6 [==============================] - 0s 3ms/step - loss: 1.0052 - accuracy: 0.6672\n",
      "Epoch 28/80\n",
      "6/6 [==============================] - 0s 4ms/step - loss: 0.9633 - accuracy: 0.6899\n",
      "Epoch 29/80\n",
      "6/6 [==============================] - 0s 3ms/step - loss: 0.9843 - accuracy: 0.6638\n",
      "Epoch 30/80\n",
      "6/6 [==============================] - 0s 3ms/step - loss: 0.9524 - accuracy: 0.6899\n",
      "Epoch 31/80\n",
      "6/6 [==============================] - 0s 3ms/step - loss: 0.9276 - accuracy: 0.6899\n",
      "Epoch 32/80\n",
      "6/6 [==============================] - 0s 2ms/step - loss: 0.9240 - accuracy: 0.6847\n",
      "Epoch 33/80\n",
      "6/6 [==============================] - 0s 3ms/step - loss: 0.9068 - accuracy: 0.6986\n",
      "Epoch 34/80\n",
      "6/6 [==============================] - 0s 2ms/step - loss: 0.8944 - accuracy: 0.7125\n",
      "Epoch 35/80\n",
      "6/6 [==============================] - 0s 3ms/step - loss: 0.8924 - accuracy: 0.7091\n",
      "Epoch 36/80\n",
      "6/6 [==============================] - 0s 2ms/step - loss: 0.8998 - accuracy: 0.6986\n",
      "Epoch 37/80\n",
      "6/6 [==============================] - 0s 3ms/step - loss: 0.8696 - accuracy: 0.7003\n",
      "Epoch 38/80\n",
      "6/6 [==============================] - 0s 2ms/step - loss: 0.8508 - accuracy: 0.7143\n",
      "Epoch 39/80\n",
      "6/6 [==============================] - 0s 3ms/step - loss: 0.8867 - accuracy: 0.6847\n",
      "Epoch 40/80\n",
      "6/6 [==============================] - 0s 2ms/step - loss: 0.8598 - accuracy: 0.7125\n",
      "Epoch 41/80\n",
      "6/6 [==============================] - 0s 3ms/step - loss: 0.8308 - accuracy: 0.7056\n",
      "Epoch 42/80\n",
      "6/6 [==============================] - 0s 2ms/step - loss: 0.8096 - accuracy: 0.7282\n",
      "Epoch 43/80\n",
      "6/6 [==============================] - 0s 3ms/step - loss: 0.8337 - accuracy: 0.7247\n",
      "Epoch 44/80\n",
      "6/6 [==============================] - 0s 3ms/step - loss: 0.7570 - accuracy: 0.7282\n",
      "Epoch 45/80\n",
      "6/6 [==============================] - 0s 4ms/step - loss: 0.7521 - accuracy: 0.7561\n",
      "Epoch 46/80\n",
      "6/6 [==============================] - 0s 3ms/step - loss: 0.7609 - accuracy: 0.7456\n",
      "Epoch 47/80\n",
      "6/6 [==============================] - 0s 3ms/step - loss: 0.7653 - accuracy: 0.7631\n",
      "Epoch 48/80\n",
      "6/6 [==============================] - 0s 3ms/step - loss: 0.7809 - accuracy: 0.7387\n",
      "Epoch 49/80\n",
      "6/6 [==============================] - 0s 3ms/step - loss: 0.7583 - accuracy: 0.7596\n",
      "Epoch 50/80\n",
      "6/6 [==============================] - 0s 2ms/step - loss: 0.7475 - accuracy: 0.7544\n",
      "Epoch 51/80\n",
      "6/6 [==============================] - 0s 2ms/step - loss: 0.7336 - accuracy: 0.7474\n",
      "Epoch 52/80\n",
      "6/6 [==============================] - 0s 2ms/step - loss: 0.7031 - accuracy: 0.7509\n",
      "Epoch 53/80\n",
      "6/6 [==============================] - 0s 2ms/step - loss: 0.7110 - accuracy: 0.7770\n",
      "Epoch 54/80\n",
      "6/6 [==============================] - 0s 2ms/step - loss: 0.7102 - accuracy: 0.7509\n",
      "Epoch 55/80\n",
      "6/6 [==============================] - 0s 2ms/step - loss: 0.6877 - accuracy: 0.7631\n",
      "Epoch 56/80\n",
      "6/6 [==============================] - 0s 2ms/step - loss: 0.7095 - accuracy: 0.7770\n",
      "Epoch 57/80\n",
      "6/6 [==============================] - 0s 3ms/step - loss: 0.6881 - accuracy: 0.7735\n",
      "Epoch 58/80\n",
      "6/6 [==============================] - 0s 2ms/step - loss: 0.6877 - accuracy: 0.7700\n",
      "Epoch 59/80\n",
      "6/6 [==============================] - 0s 2ms/step - loss: 0.6533 - accuracy: 0.7648\n",
      "Epoch 60/80\n",
      "6/6 [==============================] - 0s 2ms/step - loss: 0.6530 - accuracy: 0.7753\n",
      "Epoch 61/80\n",
      "6/6 [==============================] - 0s 3ms/step - loss: 0.6771 - accuracy: 0.7718\n",
      "Epoch 62/80\n",
      "6/6 [==============================] - 0s 2ms/step - loss: 0.6622 - accuracy: 0.7840\n",
      "Epoch 63/80\n",
      "6/6 [==============================] - 0s 3ms/step - loss: 0.6706 - accuracy: 0.7787\n",
      "Epoch 64/80\n",
      "6/6 [==============================] - 0s 3ms/step - loss: 0.7027 - accuracy: 0.7718\n",
      "Epoch 65/80\n",
      "6/6 [==============================] - 0s 3ms/step - loss: 0.6509 - accuracy: 0.7962\n",
      "Epoch 66/80\n",
      "6/6 [==============================] - 0s 3ms/step - loss: 0.6423 - accuracy: 0.7909\n",
      "Epoch 67/80\n",
      "6/6 [==============================] - 0s 3ms/step - loss: 0.6570 - accuracy: 0.7753\n",
      "Epoch 68/80\n",
      "6/6 [==============================] - 0s 3ms/step - loss: 0.6283 - accuracy: 0.7822\n",
      "Epoch 69/80\n",
      "6/6 [==============================] - 0s 2ms/step - loss: 0.6314 - accuracy: 0.7875\n",
      "Epoch 70/80\n",
      "6/6 [==============================] - 0s 3ms/step - loss: 0.6110 - accuracy: 0.7840\n",
      "Epoch 71/80\n",
      "6/6 [==============================] - 0s 2ms/step - loss: 0.5967 - accuracy: 0.7909\n",
      "Epoch 72/80\n",
      "6/6 [==============================] - 0s 3ms/step - loss: 0.6403 - accuracy: 0.7979\n",
      "Epoch 73/80\n",
      "6/6 [==============================] - 0s 2ms/step - loss: 0.5872 - accuracy: 0.7962\n",
      "Epoch 74/80\n",
      "6/6 [==============================] - 0s 3ms/step - loss: 0.6090 - accuracy: 0.7840\n",
      "Epoch 75/80\n",
      "6/6 [==============================] - 0s 3ms/step - loss: 0.5856 - accuracy: 0.8014\n",
      "Epoch 76/80\n",
      "6/6 [==============================] - 0s 3ms/step - loss: 0.5946 - accuracy: 0.8049\n",
      "Epoch 77/80\n",
      "6/6 [==============================] - 0s 2ms/step - loss: 0.5519 - accuracy: 0.8240\n",
      "Epoch 78/80\n",
      "6/6 [==============================] - 0s 3ms/step - loss: 0.5785 - accuracy: 0.8049\n",
      "Epoch 79/80\n",
      "6/6 [==============================] - 0s 3ms/step - loss: 0.5727 - accuracy: 0.8206\n",
      "Epoch 80/80\n",
      "6/6 [==============================] - 0s 2ms/step - loss: 0.5634 - accuracy: 0.8031\n"
     ]
    },
    {
     "data": {
      "text/plain": "<keras.src.callbacks.History at 0x1648f09d0>"
     },
     "execution_count": 24,
     "metadata": {},
     "output_type": "execute_result"
    }
   ],
   "source": [
    "model.fit(x_train, y_train_encoded, epochs=80, batch_size=100)\n"
   ],
   "metadata": {
    "collapsed": false,
    "ExecuteTime": {
     "end_time": "2023-09-28T20:20:13.148320Z",
     "start_time": "2023-09-28T20:20:09.586350Z"
    }
   }
  },
  {
   "cell_type": "markdown",
   "source": [
    "## Save the model"
   ],
   "metadata": {
    "collapsed": false
   }
  },
  {
   "cell_type": "code",
   "execution_count": 25,
   "outputs": [
    {
     "name": "stderr",
     "output_type": "stream",
     "text": [
      "/Users/meghas/Megha/ML/my_game/venv/lib/python3.10/site-packages/keras/src/engine/training.py:3000: UserWarning: You are saving your model as an HDF5 file via `model.save()`. This file format is considered legacy. We recommend using instead the native Keras format, e.g. `model.save('my_model.keras')`.\n",
      "  saving_api.save_model(\n"
     ]
    }
   ],
   "source": [
    "model.save('models/my_game_model.h5')\n"
   ],
   "metadata": {
    "collapsed": false,
    "ExecuteTime": {
     "end_time": "2023-09-28T20:20:37.410857Z",
     "start_time": "2023-09-28T20:20:37.357537Z"
    }
   }
  },
  {
   "cell_type": "markdown",
   "source": [
    "## To calculate the Accuracy"
   ],
   "metadata": {
    "collapsed": false
   }
  },
  {
   "cell_type": "code",
   "execution_count": 26,
   "outputs": [
    {
     "name": "stdout",
     "output_type": "stream",
     "text": [
      "20/20 [==============================] - 1s 728us/step\n"
     ]
    }
   ],
   "source": [
    "#load the model\n",
    "model = keras.models.load_model('models/my_game_model.h5')\n",
    "x_test = match_2['norm'].tolist()\n",
    "y_test = match_2['label'].tolist()\n",
    "x_test = keras.preprocessing.sequence.pad_sequences(x_test, maxlen=max_sequence_length)\n",
    "x_test = x_test.reshape((x_test.shape[0], 1,x_test.shape[1]))\n",
    "predictions = model.predict(x_test)"
   ],
   "metadata": {
    "collapsed": false,
    "ExecuteTime": {
     "end_time": "2023-09-28T20:20:58.595824Z",
     "start_time": "2023-09-28T20:20:57.761365Z"
    }
   }
  },
  {
   "cell_type": "code",
   "execution_count": 27,
   "outputs": [
    {
     "name": "stdout",
     "output_type": "stream",
     "text": [
      "True label: no action, Predicted label: run\n",
      "True label: run, Predicted label: run\n",
      "True label: pass, Predicted label: pass\n",
      "True label: rest, Predicted label: rest\n",
      "True label: walk, Predicted label: run\n",
      "True label: run, Predicted label: run\n",
      "True label: run, Predicted label: run\n",
      "True label: run, Predicted label: run\n",
      "True label: run, Predicted label: run\n",
      "True label: run, Predicted label: pass\n",
      "True label: run, Predicted label: run\n",
      "True label: run, Predicted label: run\n",
      "True label: run, Predicted label: run\n",
      "True label: run, Predicted label: run\n",
      "True label: run, Predicted label: run\n",
      "True label: run, Predicted label: run\n",
      "True label: run, Predicted label: dribble\n",
      "True label: run, Predicted label: dribble\n",
      "True label: run, Predicted label: run\n",
      "True label: run, Predicted label: walk\n",
      "True label: run, Predicted label: run\n",
      "True label: run, Predicted label: run\n",
      "True label: walk, Predicted label: walk\n",
      "True label: walk, Predicted label: walk\n",
      "True label: walk, Predicted label: walk\n",
      "True label: run, Predicted label: run\n",
      "True label: walk, Predicted label: run\n",
      "True label: walk, Predicted label: walk\n",
      "True label: run, Predicted label: walk\n",
      "True label: run, Predicted label: run\n",
      "True label: run, Predicted label: run\n",
      "True label: run, Predicted label: run\n",
      "True label: walk, Predicted label: run\n",
      "True label: walk, Predicted label: walk\n",
      "True label: walk, Predicted label: walk\n",
      "True label: walk, Predicted label: walk\n",
      "True label: walk, Predicted label: walk\n",
      "True label: dribble, Predicted label: walk\n",
      "True label: dribble, Predicted label: walk\n",
      "True label: dribble, Predicted label: run\n",
      "True label: shot, Predicted label: dribble\n",
      "True label: dribble, Predicted label: run\n",
      "True label: shot, Predicted label: run\n",
      "True label: walk, Predicted label: walk\n",
      "True label: walk, Predicted label: walk\n",
      "True label: tackle, Predicted label: walk\n",
      "True label: dribble, Predicted label: walk\n",
      "True label: dribble, Predicted label: walk\n",
      "True label: cross, Predicted label: run\n",
      "True label: run, Predicted label: run\n",
      "True label: run, Predicted label: run\n",
      "True label: run, Predicted label: run\n",
      "True label: run, Predicted label: run\n",
      "True label: walk, Predicted label: rest\n",
      "True label: dribble, Predicted label: run\n",
      "True label: pass, Predicted label: run\n",
      "True label: dribble, Predicted label: walk\n",
      "True label: pass, Predicted label: walk\n",
      "True label: walk, Predicted label: walk\n",
      "True label: rest, Predicted label: walk\n",
      "True label: run, Predicted label: run\n",
      "True label: run, Predicted label: run\n",
      "True label: run, Predicted label: run\n",
      "True label: run, Predicted label: walk\n",
      "True label: run, Predicted label: run\n",
      "True label: walk, Predicted label: run\n",
      "True label: walk, Predicted label: walk\n",
      "True label: walk, Predicted label: run\n",
      "True label: run, Predicted label: run\n",
      "True label: run, Predicted label: run\n",
      "True label: tackle, Predicted label: run\n",
      "True label: run, Predicted label: walk\n",
      "True label: tackle, Predicted label: run\n",
      "True label: run, Predicted label: run\n",
      "True label: run, Predicted label: walk\n",
      "True label: run, Predicted label: run\n",
      "True label: run, Predicted label: walk\n",
      "True label: run, Predicted label: walk\n",
      "True label: tackle, Predicted label: run\n",
      "True label: tackle, Predicted label: walk\n",
      "True label: run, Predicted label: walk\n",
      "True label: run, Predicted label: run\n",
      "True label: run, Predicted label: run\n",
      "True label: run, Predicted label: run\n",
      "True label: run, Predicted label: run\n",
      "True label: walk, Predicted label: walk\n",
      "True label: walk, Predicted label: walk\n",
      "True label: walk, Predicted label: walk\n",
      "True label: walk, Predicted label: rest\n",
      "True label: run, Predicted label: run\n",
      "True label: run, Predicted label: run\n",
      "True label: run, Predicted label: run\n",
      "True label: dribble, Predicted label: run\n",
      "True label: shot, Predicted label: run\n",
      "True label: shot, Predicted label: pass\n",
      "True label: run, Predicted label: run\n",
      "True label: run, Predicted label: run\n",
      "True label: run, Predicted label: walk\n",
      "True label: run, Predicted label: run\n",
      "True label: run, Predicted label: run\n",
      "True label: run, Predicted label: run\n",
      "True label: run, Predicted label: run\n",
      "True label: run, Predicted label: run\n",
      "True label: walk, Predicted label: run\n",
      "True label: walk, Predicted label: walk\n",
      "True label: walk, Predicted label: walk\n",
      "True label: walk, Predicted label: walk\n",
      "True label: run, Predicted label: walk\n",
      "True label: run, Predicted label: run\n",
      "True label: run, Predicted label: run\n",
      "True label: run, Predicted label: run\n",
      "True label: run, Predicted label: run\n",
      "True label: run, Predicted label: run\n",
      "True label: run, Predicted label: run\n",
      "True label: run, Predicted label: run\n",
      "True label: run, Predicted label: run\n",
      "True label: walk, Predicted label: walk\n",
      "True label: walk, Predicted label: run\n",
      "True label: walk, Predicted label: run\n",
      "True label: run, Predicted label: run\n",
      "True label: run, Predicted label: run\n",
      "True label: run, Predicted label: run\n",
      "True label: run, Predicted label: run\n",
      "True label: run, Predicted label: run\n",
      "True label: walk, Predicted label: walk\n",
      "True label: walk, Predicted label: walk\n",
      "True label: walk, Predicted label: walk\n",
      "True label: tackle, Predicted label: run\n",
      "True label: walk, Predicted label: run\n",
      "True label: walk, Predicted label: run\n",
      "True label: walk, Predicted label: walk\n",
      "True label: walk, Predicted label: walk\n",
      "True label: run, Predicted label: walk\n",
      "True label: run, Predicted label: run\n",
      "True label: run, Predicted label: run\n",
      "True label: run, Predicted label: walk\n",
      "True label: run, Predicted label: walk\n",
      "True label: run, Predicted label: walk\n",
      "True label: walk, Predicted label: walk\n",
      "True label: walk, Predicted label: walk\n",
      "True label: walk, Predicted label: walk\n",
      "True label: walk, Predicted label: walk\n",
      "True label: walk, Predicted label: walk\n",
      "True label: run, Predicted label: run\n",
      "True label: run, Predicted label: run\n",
      "True label: run, Predicted label: walk\n",
      "True label: run, Predicted label: run\n",
      "True label: run, Predicted label: run\n",
      "True label: run, Predicted label: run\n",
      "True label: run, Predicted label: run\n",
      "True label: run, Predicted label: run\n",
      "True label: run, Predicted label: run\n",
      "True label: run, Predicted label: walk\n",
      "True label: run, Predicted label: walk\n",
      "True label: run, Predicted label: run\n",
      "True label: run, Predicted label: run\n",
      "True label: run, Predicted label: run\n",
      "True label: run, Predicted label: run\n",
      "True label: run, Predicted label: run\n",
      "True label: run, Predicted label: run\n",
      "True label: run, Predicted label: run\n",
      "True label: run, Predicted label: run\n",
      "True label: run, Predicted label: run\n",
      "True label: walk, Predicted label: walk\n",
      "True label: walk, Predicted label: walk\n",
      "True label: walk, Predicted label: walk\n",
      "True label: walk, Predicted label: walk\n",
      "True label: rest, Predicted label: walk\n",
      "True label: walk, Predicted label: rest\n",
      "True label: walk, Predicted label: walk\n",
      "True label: run, Predicted label: run\n",
      "True label: run, Predicted label: walk\n",
      "True label: walk, Predicted label: walk\n",
      "True label: run, Predicted label: run\n",
      "True label: run, Predicted label: run\n",
      "True label: run, Predicted label: run\n",
      "True label: dribble, Predicted label: run\n",
      "True label: shot, Predicted label: run\n",
      "True label: walk, Predicted label: run\n",
      "True label: walk, Predicted label: walk\n",
      "True label: run, Predicted label: walk\n",
      "True label: run, Predicted label: run\n",
      "True label: run, Predicted label: walk\n",
      "True label: run, Predicted label: run\n",
      "True label: run, Predicted label: walk\n",
      "True label: run, Predicted label: run\n",
      "True label: run, Predicted label: run\n",
      "True label: run, Predicted label: run\n",
      "True label: run, Predicted label: walk\n",
      "True label: run, Predicted label: run\n",
      "True label: walk, Predicted label: walk\n",
      "True label: walk, Predicted label: walk\n",
      "True label: walk, Predicted label: walk\n",
      "True label: walk, Predicted label: run\n",
      "True label: walk, Predicted label: walk\n",
      "True label: run, Predicted label: run\n",
      "True label: run, Predicted label: dribble\n",
      "True label: run, Predicted label: run\n",
      "True label: run, Predicted label: walk\n",
      "True label: walk, Predicted label: walk\n",
      "True label: run, Predicted label: walk\n",
      "True label: run, Predicted label: run\n",
      "True label: run, Predicted label: run\n",
      "True label: run, Predicted label: walk\n",
      "True label: run, Predicted label: run\n",
      "True label: run, Predicted label: run\n",
      "True label: run, Predicted label: run\n",
      "True label: run, Predicted label: walk\n",
      "True label: run, Predicted label: walk\n",
      "True label: walk, Predicted label: walk\n",
      "True label: walk, Predicted label: walk\n",
      "True label: walk, Predicted label: walk\n",
      "True label: run, Predicted label: run\n",
      "True label: run, Predicted label: run\n",
      "True label: run, Predicted label: run\n",
      "True label: run, Predicted label: walk\n",
      "True label: run, Predicted label: run\n",
      "True label: run, Predicted label: run\n",
      "True label: run, Predicted label: run\n",
      "True label: run, Predicted label: walk\n",
      "True label: run, Predicted label: run\n",
      "True label: run, Predicted label: run\n",
      "True label: run, Predicted label: walk\n",
      "True label: run, Predicted label: run\n",
      "True label: run, Predicted label: run\n",
      "True label: run, Predicted label: run\n",
      "True label: run, Predicted label: run\n",
      "True label: run, Predicted label: run\n",
      "True label: run, Predicted label: run\n",
      "True label: run, Predicted label: run\n",
      "True label: run, Predicted label: walk\n",
      "True label: run, Predicted label: run\n",
      "True label: run, Predicted label: run\n",
      "True label: run, Predicted label: run\n",
      "True label: run, Predicted label: run\n",
      "True label: run, Predicted label: walk\n",
      "True label: walk, Predicted label: run\n",
      "True label: run, Predicted label: run\n",
      "True label: run, Predicted label: walk\n",
      "True label: run, Predicted label: run\n",
      "True label: run, Predicted label: run\n",
      "True label: walk, Predicted label: run\n",
      "True label: run, Predicted label: run\n",
      "True label: walk, Predicted label: run\n",
      "True label: walk, Predicted label: rest\n",
      "True label: run, Predicted label: run\n",
      "True label: run, Predicted label: run\n",
      "True label: run, Predicted label: run\n",
      "True label: run, Predicted label: walk\n",
      "True label: dribble, Predicted label: run\n",
      "True label: dribble, Predicted label: walk\n",
      "True label: dribble, Predicted label: run\n",
      "True label: dribble, Predicted label: run\n",
      "True label: dribble, Predicted label: run\n",
      "True label: pass, Predicted label: run\n",
      "True label: run, Predicted label: rest\n",
      "True label: run, Predicted label: run\n",
      "True label: run, Predicted label: run\n",
      "True label: run, Predicted label: walk\n",
      "True label: run, Predicted label: walk\n",
      "True label: run, Predicted label: run\n",
      "True label: run, Predicted label: run\n",
      "True label: run, Predicted label: run\n",
      "True label: run, Predicted label: run\n",
      "True label: run, Predicted label: run\n",
      "True label: walk, Predicted label: run\n",
      "True label: walk, Predicted label: walk\n",
      "True label: run, Predicted label: run\n",
      "True label: run, Predicted label: run\n",
      "True label: run, Predicted label: walk\n",
      "True label: run, Predicted label: run\n",
      "True label: run, Predicted label: walk\n",
      "True label: dribble, Predicted label: run\n",
      "True label: dribble, Predicted label: walk\n",
      "True label: dribble, Predicted label: run\n",
      "True label: pass, Predicted label: run\n",
      "True label: run, Predicted label: run\n",
      "True label: run, Predicted label: walk\n",
      "True label: run, Predicted label: run\n",
      "True label: walk, Predicted label: run\n",
      "True label: run, Predicted label: walk\n",
      "True label: run, Predicted label: run\n",
      "True label: run, Predicted label: run\n",
      "True label: run, Predicted label: run\n",
      "True label: run, Predicted label: run\n",
      "True label: run, Predicted label: walk\n",
      "True label: run, Predicted label: walk\n",
      "True label: run, Predicted label: walk\n",
      "True label: run, Predicted label: run\n",
      "True label: tackle, Predicted label: run\n",
      "True label: run, Predicted label: run\n",
      "True label: run, Predicted label: walk\n",
      "True label: run, Predicted label: run\n",
      "True label: run, Predicted label: run\n",
      "True label: run, Predicted label: run\n",
      "True label: run, Predicted label: walk\n",
      "True label: run, Predicted label: run\n",
      "True label: walk, Predicted label: walk\n",
      "True label: walk, Predicted label: walk\n",
      "True label: walk, Predicted label: run\n",
      "True label: walk, Predicted label: walk\n",
      "True label: walk, Predicted label: run\n",
      "True label: walk, Predicted label: walk\n",
      "True label: run, Predicted label: walk\n",
      "True label: run, Predicted label: walk\n",
      "True label: run, Predicted label: run\n",
      "True label: run, Predicted label: run\n",
      "True label: tackle, Predicted label: run\n",
      "True label: run, Predicted label: run\n",
      "True label: walk, Predicted label: walk\n",
      "True label: walk, Predicted label: walk\n",
      "True label: walk, Predicted label: run\n",
      "True label: walk, Predicted label: run\n",
      "True label: tackle, Predicted label: run\n",
      "True label: run, Predicted label: walk\n",
      "True label: run, Predicted label: run\n",
      "True label: run, Predicted label: walk\n",
      "True label: walk, Predicted label: run\n",
      "True label: walk, Predicted label: walk\n",
      "True label: walk, Predicted label: walk\n",
      "True label: walk, Predicted label: walk\n",
      "True label: run, Predicted label: run\n",
      "True label: run, Predicted label: run\n",
      "True label: run, Predicted label: run\n",
      "True label: run, Predicted label: run\n",
      "True label: run, Predicted label: walk\n",
      "True label: run, Predicted label: run\n",
      "True label: run, Predicted label: run\n",
      "True label: run, Predicted label: walk\n",
      "True label: run, Predicted label: run\n",
      "True label: run, Predicted label: walk\n",
      "True label: run, Predicted label: walk\n",
      "True label: run, Predicted label: run\n",
      "True label: run, Predicted label: run\n",
      "True label: run, Predicted label: dribble\n",
      "True label: run, Predicted label: run\n",
      "True label: run, Predicted label: run\n",
      "True label: run, Predicted label: run\n",
      "True label: run, Predicted label: run\n",
      "True label: run, Predicted label: run\n",
      "True label: run, Predicted label: run\n",
      "True label: run, Predicted label: walk\n",
      "True label: dribble, Predicted label: pass\n",
      "True label: shot, Predicted label: run\n",
      "True label: shot, Predicted label: pass\n",
      "True label: walk, Predicted label: run\n",
      "True label: walk, Predicted label: walk\n",
      "True label: run, Predicted label: run\n",
      "True label: run, Predicted label: run\n",
      "True label: run, Predicted label: run\n",
      "True label: run, Predicted label: walk\n",
      "True label: run, Predicted label: dribble\n",
      "True label: run, Predicted label: run\n",
      "True label: run, Predicted label: run\n",
      "True label: walk, Predicted label: walk\n",
      "True label: walk, Predicted label: run\n",
      "True label: walk, Predicted label: walk\n",
      "True label: walk, Predicted label: walk\n",
      "True label: walk, Predicted label: walk\n",
      "True label: walk, Predicted label: run\n",
      "True label: run, Predicted label: run\n",
      "True label: run, Predicted label: run\n",
      "True label: run, Predicted label: run\n",
      "True label: run, Predicted label: run\n",
      "True label: dribble, Predicted label: run\n",
      "True label: dribble, Predicted label: run\n",
      "True label: dribble, Predicted label: run\n",
      "True label: dribble, Predicted label: walk\n",
      "True label: run, Predicted label: run\n",
      "True label: run, Predicted label: run\n",
      "True label: run, Predicted label: run\n",
      "True label: run, Predicted label: run\n",
      "True label: walk, Predicted label: walk\n",
      "True label: walk, Predicted label: run\n",
      "True label: run, Predicted label: run\n",
      "True label: run, Predicted label: run\n",
      "True label: run, Predicted label: run\n",
      "True label: run, Predicted label: walk\n",
      "True label: run, Predicted label: run\n",
      "True label: run, Predicted label: walk\n",
      "True label: run, Predicted label: run\n",
      "True label: run, Predicted label: run\n",
      "True label: run, Predicted label: run\n",
      "True label: walk, Predicted label: walk\n",
      "True label: walk, Predicted label: walk\n",
      "True label: run, Predicted label: run\n",
      "True label: run, Predicted label: run\n",
      "True label: run, Predicted label: run\n",
      "True label: run, Predicted label: run\n",
      "True label: walk, Predicted label: walk\n",
      "True label: run, Predicted label: walk\n",
      "True label: run, Predicted label: run\n",
      "True label: run, Predicted label: walk\n",
      "True label: run, Predicted label: run\n",
      "True label: walk, Predicted label: walk\n",
      "True label: walk, Predicted label: walk\n",
      "True label: run, Predicted label: walk\n",
      "True label: dribble, Predicted label: walk\n",
      "True label: walk, Predicted label: rest\n",
      "True label: walk, Predicted label: walk\n",
      "True label: walk, Predicted label: walk\n",
      "True label: walk, Predicted label: run\n",
      "True label: walk, Predicted label: walk\n",
      "True label: rest, Predicted label: walk\n",
      "True label: walk, Predicted label: walk\n",
      "True label: rest, Predicted label: rest\n",
      "True label: walk, Predicted label: walk\n",
      "True label: walk, Predicted label: walk\n",
      "True label: run, Predicted label: walk\n",
      "True label: run, Predicted label: rest\n",
      "True label: run, Predicted label: run\n",
      "True label: run, Predicted label: walk\n",
      "True label: tackle, Predicted label: run\n",
      "True label: run, Predicted label: walk\n",
      "True label: tackle, Predicted label: run\n",
      "True label: dribble, Predicted label: run\n",
      "True label: dribble, Predicted label: run\n",
      "True label: dribble, Predicted label: run\n",
      "True label: dribble, Predicted label: run\n",
      "True label: dribble, Predicted label: pass\n",
      "True label: pass, Predicted label: run\n",
      "True label: dribble, Predicted label: run\n",
      "True label: pass, Predicted label: walk\n",
      "True label: run, Predicted label: run\n",
      "True label: run, Predicted label: run\n",
      "True label: run, Predicted label: run\n",
      "True label: run, Predicted label: run\n",
      "True label: run, Predicted label: run\n",
      "True label: walk, Predicted label: walk\n",
      "True label: rest, Predicted label: run\n",
      "True label: walk, Predicted label: walk\n",
      "True label: walk, Predicted label: walk\n",
      "True label: walk, Predicted label: walk\n",
      "True label: walk, Predicted label: walk\n",
      "True label: run, Predicted label: run\n",
      "True label: run, Predicted label: run\n",
      "True label: run, Predicted label: run\n",
      "True label: run, Predicted label: run\n",
      "True label: dribble, Predicted label: run\n",
      "True label: dribble, Predicted label: run\n",
      "True label: dribble, Predicted label: walk\n",
      "True label: dribble, Predicted label: walk\n",
      "True label: run, Predicted label: run\n",
      "True label: run, Predicted label: run\n",
      "True label: run, Predicted label: run\n",
      "True label: run, Predicted label: walk\n",
      "True label: run, Predicted label: run\n",
      "True label: walk, Predicted label: walk\n",
      "True label: walk, Predicted label: walk\n",
      "True label: walk, Predicted label: walk\n",
      "True label: walk, Predicted label: walk\n",
      "True label: walk, Predicted label: walk\n",
      "True label: walk, Predicted label: walk\n",
      "True label: walk, Predicted label: walk\n",
      "True label: walk, Predicted label: walk\n",
      "True label: walk, Predicted label: walk\n",
      "True label: rest, Predicted label: walk\n",
      "True label: walk, Predicted label: walk\n",
      "True label: run, Predicted label: walk\n",
      "True label: walk, Predicted label: walk\n",
      "True label: walk, Predicted label: walk\n",
      "True label: walk, Predicted label: walk\n",
      "True label: walk, Predicted label: walk\n",
      "True label: walk, Predicted label: run\n",
      "True label: run, Predicted label: run\n",
      "True label: run, Predicted label: run\n",
      "True label: run, Predicted label: run\n",
      "True label: run, Predicted label: run\n",
      "True label: run, Predicted label: run\n",
      "True label: run, Predicted label: walk\n",
      "True label: walk, Predicted label: walk\n",
      "True label: walk, Predicted label: walk\n",
      "True label: walk, Predicted label: walk\n",
      "True label: walk, Predicted label: run\n",
      "True label: run, Predicted label: walk\n",
      "True label: walk, Predicted label: rest\n",
      "True label: walk, Predicted label: walk\n",
      "True label: run, Predicted label: walk\n",
      "True label: run, Predicted label: rest\n",
      "True label: run, Predicted label: run\n",
      "True label: run, Predicted label: run\n",
      "True label: walk, Predicted label: walk\n",
      "True label: run, Predicted label: walk\n",
      "True label: run, Predicted label: run\n",
      "True label: run, Predicted label: walk\n",
      "True label: run, Predicted label: walk\n",
      "True label: run, Predicted label: run\n",
      "True label: run, Predicted label: walk\n",
      "True label: run, Predicted label: run\n",
      "True label: run, Predicted label: run\n",
      "True label: run, Predicted label: dribble\n",
      "True label: run, Predicted label: run\n",
      "True label: walk, Predicted label: walk\n",
      "True label: walk, Predicted label: run\n",
      "True label: run, Predicted label: run\n",
      "True label: run, Predicted label: walk\n",
      "True label: run, Predicted label: walk\n",
      "True label: run, Predicted label: walk\n",
      "True label: walk, Predicted label: run\n",
      "True label: walk, Predicted label: walk\n",
      "True label: walk, Predicted label: walk\n",
      "True label: walk, Predicted label: walk\n",
      "True label: walk, Predicted label: walk\n",
      "True label: walk, Predicted label: walk\n",
      "True label: walk, Predicted label: walk\n",
      "True label: rest, Predicted label: walk\n",
      "True label: walk, Predicted label: walk\n",
      "True label: walk, Predicted label: run\n",
      "True label: dribble, Predicted label: run\n",
      "True label: dribble, Predicted label: run\n",
      "True label: pass, Predicted label: run\n",
      "True label: run, Predicted label: run\n",
      "True label: run, Predicted label: run\n",
      "True label: run, Predicted label: run\n",
      "True label: run, Predicted label: run\n",
      "True label: run, Predicted label: run\n",
      "True label: walk, Predicted label: run\n",
      "True label: run, Predicted label: run\n",
      "True label: run, Predicted label: run\n",
      "True label: run, Predicted label: run\n",
      "True label: run, Predicted label: run\n",
      "True label: run, Predicted label: run\n",
      "True label: shot, Predicted label: run\n",
      "True label: shot, Predicted label: run\n",
      "True label: no action, Predicted label: rest\n",
      "True label: walk, Predicted label: rest\n",
      "True label: walk, Predicted label: walk\n",
      "True label: walk, Predicted label: walk\n",
      "True label: walk, Predicted label: walk\n",
      "True label: run, Predicted label: walk\n",
      "True label: run, Predicted label: walk\n",
      "True label: walk, Predicted label: walk\n",
      "True label: walk, Predicted label: walk\n",
      "True label: walk, Predicted label: walk\n",
      "True label: walk, Predicted label: walk\n",
      "True label: walk, Predicted label: walk\n",
      "True label: walk, Predicted label: walk\n",
      "True label: walk, Predicted label: walk\n",
      "True label: walk, Predicted label: walk\n",
      "True label: walk, Predicted label: walk\n",
      "True label: rest, Predicted label: walk\n",
      "True label: walk, Predicted label: walk\n",
      "True label: walk, Predicted label: walk\n",
      "True label: walk, Predicted label: walk\n",
      "True label: walk, Predicted label: walk\n",
      "True label: walk, Predicted label: walk\n",
      "True label: run, Predicted label: run\n",
      "True label: run, Predicted label: run\n",
      "True label: walk, Predicted label: walk\n",
      "True label: walk, Predicted label: walk\n",
      "True label: rest, Predicted label: walk\n",
      "True label: walk, Predicted label: run\n",
      "True label: walk, Predicted label: walk\n",
      "True label: walk, Predicted label: rest\n",
      "True label: walk, Predicted label: walk\n",
      "True label: walk, Predicted label: walk\n",
      "True label: walk, Predicted label: rest\n",
      "True label: walk, Predicted label: run\n",
      "True label: walk, Predicted label: walk\n",
      "True label: walk, Predicted label: walk\n",
      "True label: walk, Predicted label: walk\n",
      "True label: walk, Predicted label: walk\n",
      "True label: walk, Predicted label: walk\n",
      "True label: walk, Predicted label: walk\n",
      "True label: walk, Predicted label: walk\n",
      "True label: walk, Predicted label: walk\n",
      "True label: walk, Predicted label: walk\n",
      "True label: run, Predicted label: walk\n",
      "True label: run, Predicted label: run\n",
      "True label: run, Predicted label: walk\n",
      "True label: run, Predicted label: run\n",
      "True label: run, Predicted label: run\n",
      "True label: run, Predicted label: run\n",
      "True label: run, Predicted label: run\n",
      "True label: run, Predicted label: walk\n",
      "True label: run, Predicted label: walk\n",
      "True label: run, Predicted label: walk\n",
      "True label: run, Predicted label: walk\n",
      "True label: run, Predicted label: run\n",
      "True label: run, Predicted label: run\n",
      "True label: run, Predicted label: run\n",
      "True label: run, Predicted label: run\n",
      "True label: run, Predicted label: walk\n",
      "True label: run, Predicted label: walk\n",
      "True label: run, Predicted label: run\n",
      "True label: run, Predicted label: run\n",
      "True label: run, Predicted label: run\n",
      "True label: run, Predicted label: run\n",
      "True label: run, Predicted label: run\n",
      "True label: run, Predicted label: run\n",
      "True label: run, Predicted label: run\n",
      "True label: run, Predicted label: walk\n",
      "True label: run, Predicted label: run\n",
      "True label: run, Predicted label: run\n",
      "True label: run, Predicted label: walk\n",
      "True label: run, Predicted label: run\n",
      "True label: run, Predicted label: run\n",
      "True label: shot, Predicted label: pass\n",
      "True label: shot, Predicted label: run\n",
      "True label: run, Predicted label: run\n",
      "True label: shot, Predicted label: walk\n",
      "True label: walk, Predicted label: run\n",
      "True label: walk, Predicted label: walk\n",
      "True label: walk, Predicted label: walk\n",
      "True label: walk, Predicted label: walk\n",
      "True label: walk, Predicted label: walk\n",
      "True label: walk, Predicted label: walk\n",
      "True label: walk, Predicted label: walk\n",
      "True label: walk, Predicted label: walk\n",
      "True label: walk, Predicted label: walk\n",
      "True label: walk, Predicted label: walk\n",
      "True label: walk, Predicted label: walk\n",
      "True label: walk, Predicted label: walk\n",
      "Accuracy: 64.27%\n"
     ]
    }
   ],
   "source": [
    "true_labels = np.array(y_test)\n",
    "predicted_label = np.argmax(predictions, axis=1)\n",
    "reverse_label_map = {num: label for num, label in enumerate(unique_labels)}\n",
    "predicted_labels = [reverse_label_map[label] for label in predicted_label]\n",
    "for i in range(len(true_labels)):\n",
    "    print(f\"True label: {true_labels[i]}, Predicted label: {predicted_labels[i]}\")\n",
    "accuracy = accuracy_score(true_labels, predicted_labels)\n",
    "print(f\"Accuracy: {accuracy * 100:.2f}%\")"
   ],
   "metadata": {
    "collapsed": false,
    "ExecuteTime": {
     "end_time": "2023-09-28T20:21:44.134763Z",
     "start_time": "2023-09-28T20:21:44.108873Z"
    }
   }
  },
  {
   "cell_type": "code",
   "execution_count": null,
   "outputs": [],
   "source": [],
   "metadata": {
    "collapsed": false
   }
  }
 ],
 "metadata": {
  "kernelspec": {
   "display_name": "Python 3",
   "language": "python",
   "name": "python3"
  },
  "language_info": {
   "codemirror_mode": {
    "name": "ipython",
    "version": 2
   },
   "file_extension": ".py",
   "mimetype": "text/x-python",
   "name": "python",
   "nbconvert_exporter": "python",
   "pygments_lexer": "ipython2",
   "version": "2.7.6"
  }
 },
 "nbformat": 4,
 "nbformat_minor": 0
}
